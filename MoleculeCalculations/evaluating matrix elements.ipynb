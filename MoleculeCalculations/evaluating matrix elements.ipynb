{
 "cells": [
  {
   "cell_type": "code",
   "execution_count": 1,
   "metadata": {
    "collapsed": false
   },
   "outputs": [],
   "source": [
    "import sys\n",
    "sys.path.append('./code')\n",
    "\n",
    "import matrix_elements as me\n",
    "import numpy as np\n",
    "import copy"
   ]
  },
  {
   "cell_type": "code",
   "execution_count": 2,
   "metadata": {
    "collapsed": false
   },
   "outputs": [],
   "source": [
    "class HundsCaseABasisState(object):\n",
    "    \n",
    "    def __init__(self,T=None, j=None, m=None, w=None):\n",
    "        if j is None or m is None or w is None:\n",
    "            raise IOError('j, m, and w must be defined.')\n",
    "        self.j = j\n",
    "        self.m = m\n",
    "        self.w = w\n",
    "        self.T = T\n",
    "    \n",
    "    def __str__(self):\n",
    "        output =  ( 'j=' + str(self.j) + ', '\n",
    "                  + 'm=' + str(self.m) + ', '\n",
    "                  + 'w=' + str(self.w))\n",
    "        \n",
    "        if self.T is not None:\n",
    "            output = (str(self.T) + ', ' + output)\n",
    "        \n",
    "        output = '|' + output + '>'\n",
    "        return output\n",
    "        \n",
    "    \n",
    "    def __repr__(self):\n",
    "        return str(self)\n",
    "    \n",
    "    def __eq__(self, other):\n",
    "        if isinstance(other, self.__class__):\n",
    "            return self.__dict__ == other.__dict__\n",
    "        else:\n",
    "            return False\n",
    "\n",
    "    def __ne__(self, other):\n",
    "        return not self.__eq__(other)\n",
    "\n",
    "    \n",
    "def hunds_case_a_basis(T=None, j=None, m=None, w=None):\n",
    "    \n",
    "    states = []\n",
    "    \n",
    "    if j is None or w is None:\n",
    "        raise IOError('j and w must be defined')\n",
    "    if not(isinstance(j,(list, tuple))):\n",
    "        j = [j]\n",
    "    if not(isinstance(w,(list, tuple))):\n",
    "        w = [w]\n",
    "    if not(isinstance(T,(list, tuple))):\n",
    "        T = [T]\n",
    "    if m is not None and not(isinstance(m,(list, tuple))):\n",
    "        m = [m]\n",
    "        \n",
    "    for T_inst in T:\n",
    "        for j_inst in j:\n",
    "            for w_inst in w:\n",
    "                if m is None:\n",
    "                    m_temp = range(-j_inst, j_inst + 1)\n",
    "                else:\n",
    "                    m_temp = m\n",
    "                    \n",
    "                for m_inst in m_temp:\n",
    "                    \n",
    "                    basis_state = HundsCaseABasisState(T=T_inst, j=j_inst,\n",
    "                                                       m=m_inst, w=w_inst)\n",
    "                    state = State(1,basis_state)\n",
    "                    states.append(state)\n",
    "                    \n",
    "                    \n",
    "    if len(states) == 1:\n",
    "        states = states[0]\n",
    "    \n",
    "    return states\n",
    "\n",
    "\n",
    "class State(object):\n",
    "    \n",
    "    def __init__(self, amplitudes, states):\n",
    "        \n",
    "        if not(isinstance(amplitudes,(list,tuple)) \n",
    "               or amplitudes.__class__.__name__ == 'ndarray'):\n",
    "            amplitudes = [amplitudes]\n",
    "            \n",
    "        if not(isinstance(states, (list,tuple))):\n",
    "            states     = [states]\n",
    "            \n",
    "        if len(amplitudes) != len(states):\n",
    "            raise IOError(\"\"\"the state object must be provided equal\n",
    "                          length amplitude and states lists\"\"\")\n",
    "            \n",
    "        self.amplitudes = np.array(amplitudes)\n",
    "        self.states     = list(states)\n",
    "        \n",
    "    def __len__(self):\n",
    "        return len(self.states)\n",
    "        \n",
    "    def __str__(self):\n",
    "        output = []\n",
    "        for a, s in zip(self.amplitudes, self.states):\n",
    "            output.append(' + ')\n",
    "            if a != 1:\n",
    "                output.append(str(a))\n",
    "            output.append(str(s))\n",
    "            \n",
    "        output.pop(0)\n",
    "        output = ''.join(output)\n",
    "        return output\n",
    "    \n",
    "    def normalize(self):\n",
    "        self.amplitudes = self.amplitudes / self.norm()\n",
    "        \n",
    "    def norm(self):\n",
    "        return np.sqrt(np.sum(self.amplitudes * np.conj(self.amplitudes)))\n",
    "    \n",
    "    def t(self):\n",
    "        return State(np.conj(self.amplitudes),self.states)\n",
    "    \n",
    "    def __repr__(self):\n",
    "        return str(self)\n",
    "    \n",
    "    def __mul__(self, other):\n",
    "        if isinstance(other, self.__class__):\n",
    "            if other.states == self.states:\n",
    "                return sum(np.conj(other.amplitudes) * self.amplitudes)\n",
    "            \n",
    "            if len(self.states) >= len(other.states):\n",
    "                large = self.t()\n",
    "                small = other\n",
    "            else:\n",
    "                large = other\n",
    "                small = self.t()\n",
    "                \n",
    "            total = 0\n",
    "            for s, a in zip(small.states, list(small.amplitudes)):\n",
    "                if s in large.states:\n",
    "                    ind = large.states.index(s)\n",
    "                    total += a * large.amplitudes[ind]  \n",
    "            return total\n",
    "        \n",
    "        else:\n",
    "            return State(self.amplitudes * other, self.states)\n",
    "    \n",
    "    def __rmul__(self, other):\n",
    "        if isinstance(other, self.__class__):\n",
    "            return np.conj(self.__mul__(other))\n",
    "        else:\n",
    "            return self.__mul__(other)\n",
    "    \n",
    "    def __add__(self, other):\n",
    "        if not(isinstance(other, self.__class__)):\n",
    "            raise TypeError('only state objects can be added together')\n",
    "            \n",
    "        new_states = copy.deepcopy(self.states)\n",
    "        new_amplitudes = list(copy.deepcopy(self.amplitudes))\n",
    "        \n",
    "        for s, a in zip(other.states,list(other.amplitudes)):\n",
    "            if s in new_states:\n",
    "                ind = new_states.index(s)\n",
    "                new_amplitudes[ind] += a\n",
    "            else:\n",
    "                new_states.append(s)\n",
    "                new_amplitudes.append(a)\n",
    "                \n",
    "        return State(new_amplitudes, new_states)\n",
    "    \n",
    "    def __sub__(self, other):\n",
    "        return self.__add__((-1) * other)\n",
    "    \n",
    "    def __eq__(self, other):\n",
    "        if isinstance(other, self.__class__):\n",
    "            if len(self.states) != len(other.states):\n",
    "                return False\n",
    "            else:\n",
    "                for s, a in zip(self.states, list(self.amplitudes)):\n",
    "                    if s in other.states:\n",
    "                        ind = other.states.index(s)\n",
    "                        if other.amplitudes[ind] != a:\n",
    "                            return False\n",
    "                    else:\n",
    "                        return False\n",
    "                return True\n",
    "        else:\n",
    "            return False\n",
    "\n",
    "    def __ne__(self, other):\n",
    "        return not self.__eq__(other)"
   ]
  },
  {
   "cell_type": "code",
   "execution_count": 7,
   "metadata": {
    "collapsed": false
   },
   "outputs": [],
   "source": [
    "a = hunds_case_a_basis(T='H',j=1,m=1,w=1)\n",
    "b = hunds_case_a_basis(T='H',j=2,m=1,w=1)\n",
    "c = hunds_case_a_basis(T='H',j=2,m=1,w=1)"
   ]
  },
  {
   "cell_type": "code",
   "execution_count": null,
   "metadata": {
    "collapsed": false
   },
   "outputs": [],
   "source": [
    "basis = hunds_case_a_basis(T=['H', 'C'], j=[1, 2], w=[-1, 1])"
   ]
  },
  {
   "cell_type": "code",
   "execution_count": null,
   "metadata": {
    "collapsed": false
   },
   "outputs": [],
   "source": [
    "states = [a, b, c]\n",
    "A = states[0] + (1 + 1j) * states[1]\n",
    "B = states[0] + 1j * states[1]\n",
    "\n",
    "#A.normalize()\n",
    "#B.normalize()\n",
    "\n",
    "print(A * B)\n",
    "print(B * A)"
   ]
  },
  {
   "cell_type": "code",
   "execution_count": null,
   "metadata": {
    "collapsed": true
   },
   "outputs": [],
   "source": [
    "me.lab_to_mol?"
   ]
  },
  {
   "cell_type": "code",
   "execution_count": 2,
   "metadata": {
    "collapsed": false
   },
   "outputs": [
    {
     "data": {
      "text/plain": [
       "0.353553390593274"
      ]
     },
     "execution_count": 2,
     "metadata": {},
     "output_type": "execute_result"
    }
   ],
   "source": [
    "me.lab_to_mol(1, 0, 1, \n",
    "              1,-1, 0,\n",
    "              1, 1, 1)/np.sqrt(2)"
   ]
  },
  {
   "cell_type": "code",
   "execution_count": null,
   "metadata": {
    "collapsed": true
   },
   "outputs": [],
   "source": [
    "(me.lab_to_mol(1, 0, 1, \n",
    "              1, 1, 0,\n",
    "              1, 1, 1)\n",
    "-\n",
    "me.lab_to_mol(1, 0, 1, \n",
    "              1, 1, 0,\n",
    "              1, 1, 1))"
   ]
  }
 ],
 "metadata": {
  "kernelspec": {
   "display_name": "Python 2",
   "language": "python",
   "name": "python2"
  },
  "language_info": {
   "codemirror_mode": {
    "name": "ipython",
    "version": 2
   },
   "file_extension": ".py",
   "mimetype": "text/x-python",
   "name": "python",
   "nbconvert_exporter": "python",
   "pygments_lexer": "ipython2",
   "version": "2.7.11"
  }
 },
 "nbformat": 4,
 "nbformat_minor": 0
}
