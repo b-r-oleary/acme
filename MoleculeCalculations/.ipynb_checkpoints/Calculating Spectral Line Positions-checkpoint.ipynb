{
 "cells": [
  {
   "cell_type": "markdown",
   "metadata": {},
   "source": [
    "# Calculating Transition Frequencies in ThO\n",
    "\n",
    "This notebook takes advantage of some code that I wrote that stores molecular constants for molecular states in diatomic molecules and enables calculations of transition frequencies in ThO.\n",
    "\n",
    "Here, all frequency units are in cm$^{-1}$.\n",
    "\n",
    "First, import the Molecule and State objects which are defined in `code/molecule.py`. This requires adding the `./code` directory to the system path."
   ]
  },
  {
   "cell_type": "code",
   "execution_count": 1,
   "metadata": {
    "collapsed": false
   },
   "outputs": [],
   "source": [
    "%matplotlib inline\n",
    "import sys\n",
    "sys.path.append('./code')\n",
    "\n",
    "from molecule import State, Molecule\n",
    "import matplotlib.pyplot as plt\n",
    "import seaborn as sns\n",
    "import numpy as np\n",
    "sns.xkcd_palette\n",
    "sns.set_style('white')\n",
    "sns.set_context(\"poster\")"
   ]
  },
  {
   "cell_type": "markdown",
   "metadata": {},
   "source": [
    "I saved some ThO data into the path `data/ThO.pkl`. We can load that data and then view that data in a pandas dataframe:"
   ]
  },
  {
   "cell_type": "code",
   "execution_count": 2,
   "metadata": {
    "collapsed": false
   },
   "outputs": [
    {
     "name": "stderr",
     "output_type": "stream",
     "text": [
      "./code\\molecule.py:226: FutureWarning: sort(columns=....) is deprecated, use sort_values(by=.....)\n",
      "  df = df.sort('T0')\n"
     ]
    },
    {
     "data": {
      "text/html": [
       "<div>\n",
       "<table border=\"1\" class=\"dataframe\">\n",
       "  <thead>\n",
       "    <tr style=\"text-align: right;\">\n",
       "      <th></th>\n",
       "      <th>omega</th>\n",
       "      <th>T0</th>\n",
       "      <th>we</th>\n",
       "      <th>we_xe</th>\n",
       "      <th>Be</th>\n",
       "      <th>D0</th>\n",
       "      <th>alphae</th>\n",
       "      <th>Re</th>\n",
       "    </tr>\n",
       "    <tr>\n",
       "      <th>name</th>\n",
       "      <th></th>\n",
       "      <th></th>\n",
       "      <th></th>\n",
       "      <th></th>\n",
       "      <th></th>\n",
       "      <th></th>\n",
       "      <th></th>\n",
       "      <th></th>\n",
       "    </tr>\n",
       "  </thead>\n",
       "  <tbody>\n",
       "    <tr>\n",
       "      <th>X</th>\n",
       "      <td>0</td>\n",
       "      <td>0.000</td>\n",
       "      <td>895.77</td>\n",
       "      <td>2.39</td>\n",
       "      <td>[0.33264]</td>\n",
       "      <td>1.83e-07</td>\n",
       "      <td>0.0013</td>\n",
       "      <td>1.840</td>\n",
       "    </tr>\n",
       "    <tr>\n",
       "      <th>H</th>\n",
       "      <td>1</td>\n",
       "      <td>5316.600</td>\n",
       "      <td>857.20</td>\n",
       "      <td>2.40</td>\n",
       "      <td>[0.32642]</td>\n",
       "      <td>1.891e-07</td>\n",
       "      <td>0.00129</td>\n",
       "      <td>1.858</td>\n",
       "    </tr>\n",
       "    <tr>\n",
       "      <th>Q</th>\n",
       "      <td>2</td>\n",
       "      <td>6127.921</td>\n",
       "      <td>859.42</td>\n",
       "      <td>2.29</td>\n",
       "      <td>[0.326353]</td>\n",
       "      <td>1.919e-07</td>\n",
       "      <td>0.00133</td>\n",
       "      <td>1.856</td>\n",
       "    </tr>\n",
       "    <tr>\n",
       "      <th>A</th>\n",
       "      <td>0</td>\n",
       "      <td>10600.820</td>\n",
       "      <td>846.40</td>\n",
       "      <td>2.40</td>\n",
       "      <td>[0.32304]</td>\n",
       "      <td>1.87e-07</td>\n",
       "      <td>0.00129</td>\n",
       "      <td>1.867</td>\n",
       "    </tr>\n",
       "    <tr>\n",
       "      <th>B</th>\n",
       "      <td>1</td>\n",
       "      <td>11129.140</td>\n",
       "      <td>842.80</td>\n",
       "      <td>2.18</td>\n",
       "      <td>[0.32364, 0.32497]</td>\n",
       "      <td>[1.88e-07, 1.94e-07]</td>\n",
       "      <td>[0.00129, 0.0013]</td>\n",
       "      <td>1.864</td>\n",
       "    </tr>\n",
       "    <tr>\n",
       "      <th>C</th>\n",
       "      <td>1</td>\n",
       "      <td>14490.000</td>\n",
       "      <td>825.10</td>\n",
       "      <td>2.40</td>\n",
       "      <td>[0.32161, 0.32246]</td>\n",
       "      <td>[1.87e-07, 1.93e-07]</td>\n",
       "      <td>[0.00129, 0.00128]</td>\n",
       "      <td>1.870</td>\n",
       "    </tr>\n",
       "    <tr>\n",
       "      <th>E</th>\n",
       "      <td>0</td>\n",
       "      <td>16320.370</td>\n",
       "      <td>829.26</td>\n",
       "      <td>2.30</td>\n",
       "      <td>[0.32309]</td>\n",
       "      <td>1.99e-07</td>\n",
       "      <td>0.0013</td>\n",
       "      <td>1.867</td>\n",
       "    </tr>\n",
       "    <tr>\n",
       "      <th>G</th>\n",
       "      <td>2</td>\n",
       "      <td>18009.930</td>\n",
       "      <td>809.10</td>\n",
       "      <td>2.30</td>\n",
       "      <td>[0.31814]</td>\n",
       "      <td>1.94e-07</td>\n",
       "      <td>0.00128</td>\n",
       "      <td>1.882</td>\n",
       "    </tr>\n",
       "    <tr>\n",
       "      <th>F</th>\n",
       "      <td>0</td>\n",
       "      <td>18337.560</td>\n",
       "      <td>757.36</td>\n",
       "      <td>NaN</td>\n",
       "      <td>[0.3214]</td>\n",
       "      <td>2.04e-07</td>\n",
       "      <td>None</td>\n",
       "      <td>1.870</td>\n",
       "    </tr>\n",
       "    <tr>\n",
       "      <th>R</th>\n",
       "      <td>0</td>\n",
       "      <td>19050.750</td>\n",
       "      <td>862.00</td>\n",
       "      <td>2.80</td>\n",
       "      <td>[0.33232]</td>\n",
       "      <td>2.001e-07</td>\n",
       "      <td>0.00148</td>\n",
       "      <td>1.841</td>\n",
       "    </tr>\n",
       "    <tr>\n",
       "      <th>I</th>\n",
       "      <td>1</td>\n",
       "      <td>19539.060</td>\n",
       "      <td>800.85</td>\n",
       "      <td>1.47</td>\n",
       "      <td>[0.32892, 0.33043]</td>\n",
       "      <td>[2.21e-07, 2.39e-07]</td>\n",
       "      <td>[0.00191, 0.00183]</td>\n",
       "      <td>1.849</td>\n",
       "    </tr>\n",
       "    <tr>\n",
       "      <th>S</th>\n",
       "      <td>3</td>\n",
       "      <td>20061.660</td>\n",
       "      <td>NaN</td>\n",
       "      <td>NaN</td>\n",
       "      <td>[0.31505]</td>\n",
       "      <td>1.987e-07</td>\n",
       "      <td>None</td>\n",
       "      <td>1.889</td>\n",
       "    </tr>\n",
       "    <tr>\n",
       "      <th>M</th>\n",
       "      <td>1</td>\n",
       "      <td>21734.320</td>\n",
       "      <td>800.85</td>\n",
       "      <td>NaN</td>\n",
       "      <td>[0.32575, 0.32586]</td>\n",
       "      <td>[2.05e-07, 2.06e-07]</td>\n",
       "      <td>[0.0014, 0.00139]</td>\n",
       "      <td>1.860</td>\n",
       "    </tr>\n",
       "    <tr>\n",
       "      <th>T</th>\n",
       "      <td>3</td>\n",
       "      <td>24035.580</td>\n",
       "      <td>NaN</td>\n",
       "      <td>NaN</td>\n",
       "      <td>[0.316785]</td>\n",
       "      <td>1.994e-07</td>\n",
       "      <td>None</td>\n",
       "      <td>1.884</td>\n",
       "    </tr>\n",
       "  </tbody>\n",
       "</table>\n",
       "</div>"
      ],
      "text/plain": [
       "      omega         T0      we  we_xe                  Be  \\\n",
       "name                                                        \n",
       "X         0      0.000  895.77   2.39           [0.33264]   \n",
       "H         1   5316.600  857.20   2.40           [0.32642]   \n",
       "Q         2   6127.921  859.42   2.29          [0.326353]   \n",
       "A         0  10600.820  846.40   2.40           [0.32304]   \n",
       "B         1  11129.140  842.80   2.18  [0.32364, 0.32497]   \n",
       "C         1  14490.000  825.10   2.40  [0.32161, 0.32246]   \n",
       "E         0  16320.370  829.26   2.30           [0.32309]   \n",
       "G         2  18009.930  809.10   2.30           [0.31814]   \n",
       "F         0  18337.560  757.36    NaN            [0.3214]   \n",
       "R         0  19050.750  862.00   2.80           [0.33232]   \n",
       "I         1  19539.060  800.85   1.47  [0.32892, 0.33043]   \n",
       "S         3  20061.660     NaN    NaN           [0.31505]   \n",
       "M         1  21734.320  800.85    NaN  [0.32575, 0.32586]   \n",
       "T         3  24035.580     NaN    NaN          [0.316785]   \n",
       "\n",
       "                        D0              alphae     Re  \n",
       "name                                                   \n",
       "X                 1.83e-07              0.0013  1.840  \n",
       "H                1.891e-07             0.00129  1.858  \n",
       "Q                1.919e-07             0.00133  1.856  \n",
       "A                 1.87e-07             0.00129  1.867  \n",
       "B     [1.88e-07, 1.94e-07]   [0.00129, 0.0013]  1.864  \n",
       "C     [1.87e-07, 1.93e-07]  [0.00129, 0.00128]  1.870  \n",
       "E                 1.99e-07              0.0013  1.867  \n",
       "G                 1.94e-07             0.00128  1.882  \n",
       "F                 2.04e-07                None  1.870  \n",
       "R                2.001e-07             0.00148  1.841  \n",
       "I     [2.21e-07, 2.39e-07]  [0.00191, 0.00183]  1.849  \n",
       "S                1.987e-07                None  1.889  \n",
       "M     [2.05e-07, 2.06e-07]   [0.0014, 0.00139]  1.860  \n",
       "T                1.994e-07                None  1.884  "
      ]
     },
     "execution_count": 2,
     "metadata": {},
     "output_type": "execute_result"
    }
   ],
   "source": [
    "ThO = Molecule.load('data/ThO.pkl')\n",
    "ThO.to_dataframe()"
   ]
  },
  {
   "cell_type": "markdown",
   "metadata": {},
   "source": [
    "Here is an example calculation of a transition frequency. here this is th transition from the absolute ground state (assuming $v=0$) to $|C,J=1; \\Omega=e\\rangle$ ($\\Omega=e$ means the lower of the two omega doublets using the $e$, $f$ notation). To obtain a frequency float in cm$^{-1}$ add the keyword argument `numeric=True`."
   ]
  },
  {
   "cell_type": "code",
   "execution_count": 3,
   "metadata": {
    "collapsed": false
   },
   "outputs": [
    {
     "name": "stdout",
     "output_type": "stream",
     "text": [
      "|X, j=0> to |C, j=1; W=e>: 14490.6432193 cm^-1\n",
      "14490.6432193\n"
     ]
    }
   ],
   "source": [
    "print(ThO.transition(name1='X', j1=0, \n",
    "                     name2='C', j2=1, omega_doublet2='e'))\n",
    "\n",
    "print(ThO.transition(name1='X', j1=0, \n",
    "                     name2='C', j2=1, omega_doublet2='e', numeric=True)) "
   ]
  },
  {
   "cell_type": "markdown",
   "metadata": {},
   "source": [
    "Here is an energy level plot of ThO which shows the course grained electronic structure and some of the vibrational structure using lighter colored lines. Those states which are not provided with a vibrational constant do not show vibrational states."
   ]
  },
  {
   "cell_type": "code",
   "execution_count": 4,
   "metadata": {
    "collapsed": false
   },
   "outputs": [
    {
     "data": {
      "image/png": "[encoded data removed]",
      "text/plain": [
       "<matplotlib.figure.Figure at 0x9232f90>"
      ]
     },
     "metadata": {},
     "output_type": "display_data"
    }
   ],
   "source": [
    "_ = ThO.energy_level_plot()"
   ]
  },
  {
   "cell_type": "markdown",
   "metadata": {},
   "source": [
    "this function can be customized to produce various types of energy level diagrams"
   ]
  },
  {
   "cell_type": "code",
   "execution_count": 11,
   "metadata": {
    "collapsed": false
   },
   "outputs": [
    {
     "data": {
      "image/png": "[encoded data removed]",
      "text/plain": [
       "<matplotlib.figure.Figure at 0x12a8d190>"
      ]
     },
     "metadata": {},
     "output_type": "display_data"
    }
   ],
   "source": [
    "fig = ThO.energy_level_plot(['X','H','C','A'], v=1, color='k',\n",
    "                            width=.25, aspect_ratio=1.5, font_size=20,\n",
    "                            transitions=[('X','A'),('H','C')], \n",
    "                            decays=[('A','H'),('C','X')])"
   ]
  },
  {
   "cell_type": "code",
   "execution_count": null,
   "metadata": {
    "collapsed": true
   },
   "outputs": [],
   "source": [
    "    def energy_level_plot(self, states=None, transitions=None, decays=None,\n",
    "                          v=4, width=.32, show=False, \n",
    "                          color=sns.color_palette()[0],\n",
    "                          transition_color=sns.color_palette()[1],\n",
    "                          decay_color=sns.color_palette()[2],\n",
    "                          aspect_ratio = 1.618, font_size=14, **kwargs):\n",
    "        \"\"\"\n",
    "        create an energy level diagram for the molecule\n",
    "        \"\"\"\n",
    "        if states is None:\n",
    "            states = self.states.keys()\n",
    "        \n",
    "        fig = plt.figure()\n",
    "        ax = fig.add_subplot(1,1,1)\n",
    "\n",
    "        min_e = 0\n",
    "        max_e = 0\n",
    "        max_w = 0\n",
    "\n",
    "        for state in self.states.values():\n",
    "            if state.name in states:\n",
    "                for v_i in range(v):\n",
    "                    eng = state.energy(v=v_i)\n",
    "\n",
    "                    x = [state.omega - width, state.omega + width]\n",
    "                    y = [eng, eng]\n",
    "                    ax.plot(x,y,'-', alpha=1/float(v_i + 1)**3, color=color, **kwargs)\n",
    "\n",
    "                    if v_i == 0 and not(np.isnan(eng)):\n",
    "\n",
    "                        min_e = min([min_e, eng])\n",
    "                        max_e = max([max_e, eng])\n",
    "                        max_w = max([max_w, state.omega])\n",
    "\n",
    "                        plt.text(float(state.omega) + width + .15, eng, state.name,\n",
    "                                va='center', ha='right', size=font_size)\n",
    "                        \n",
    "        if decays is None:\n",
    "            decays = []\n",
    "        if transitions is None:\n",
    "            transitions = []\n",
    "                        \n",
    "        for decay in decays:\n",
    "            tstates = [self.states[decay[0]], self.states[decay[1]]]\n",
    "            x = [tstates[0].omega, tstates[1].omega]\n",
    "            y = [tstates[0].energy(), tstates[1].energy()]\n",
    "            ax.plot(x,y,'--',color=decay_color)#,alpha=.5)\n",
    "        \n",
    "        for transition in transitions:\n",
    "            tstates = [self.states[transition[0]], self.states[transition[1]]]\n",
    "            x = [tstates[0].omega, tstates[1].omega]\n",
    "            y = [tstates[0].energy(), tstates[1].energy()]\n",
    "            ax.plot(x,y,'-',color=transition_color)#,alpha=.75)\n",
    "\n",
    "        y_range = max_e - min_e\n",
    "        \n",
    "        ax.set_xlim([-1.5*width, max_w + 1.5*width])\n",
    "        ax.set_ylim([min_e - y_range/30, max_e + y_range/5])\n",
    "        ax.set_xticks(list(range(max_w + 1)))\n",
    "\n",
    "        ax.set_xlabel('$|\\Omega|$')\n",
    "        ax.set_ylabel('energy cm$^{-1}$')\n",
    "        ax.set_title(self.name)\n",
    "\n",
    "        ax.spines['top'].set_visible(False)\n",
    "        ax.spines['right'].set_visible(False)\n",
    "\n",
    "        ax.set_aspect(.00009*aspect_ratio)\n",
    "\n",
    "        if show:\n",
    "            plt.show()\n",
    "        return fig"
   ]
  },
  {
   "cell_type": "code",
   "execution_count": null,
   "metadata": {
    "collapsed": true
   },
   "outputs": [],
   "source": [
    "def energy_level_plot(levels, )"
   ]
  },
  {
   "cell_type": "code",
   "execution_count": null,
   "metadata": {
    "collapsed": true
   },
   "outputs": [],
   "source": [
    "class EnergyLevelDiagram(object):\n",
    "    \"\"\"\n",
    "    this is a class to generalize the creation of energy level diagrams\n",
    "    \"\"\"\n",
    "    \n",
    "    def __init__(self, levels=None, couplings=None, emission=None,\n",
    "                       level_style=None, coupling_style=None, emission_style=None, **kwargs):\n",
    "        \"\"\"\n",
    "        inputs:\n",
    "        levels (dict with keys equal to the names of the states, and with values\n",
    "                equal to energy E or a list of form [x position, E position])\n",
    "        couplings (list of lists of form [state_key_1, state_key_2])\n",
    "        emission (list of lists of form [state_key_1, state_key_2])\n",
    "        \"\"\"\n",
    "\n",
    "        self.levels    = levels\n",
    "        self.couplings = couplings\n",
    "        self.emission  = emission\n",
    "        \n",
    "        self.level_style    = level_style\n",
    "        self.coupling_style = coupling_style\n",
    "        self.emission_style = emission_style\n",
    "        \n",
    "        # dynamically set the width of the levels:\n",
    "        \n",
    "        \n",
    "        self.plot(**kwargs)\n",
    "        \n",
    "    def plot(self, width=.32, **kwargs):\n",
    "        color=sns.color_palette()[0],\n",
    "                          transition_color=sns.color_palette()[1],\n",
    "                          decay_color=sns.color_palette()[2],\n",
    "                          aspect_ratio = 1.618\n",
    "        "
   ]
  }
 ],
 "metadata": {
  "kernelspec": {
   "display_name": "Python 2",
   "language": "python",
   "name": "python2"
  },
  "language_info": {
   "codemirror_mode": {
    "name": "ipython",
    "version": 2
   },
   "file_extension": ".py",
   "mimetype": "text/x-python",
   "name": "python",
   "nbconvert_exporter": "python",
   "pygments_lexer": "ipython2",
   "version": "2.7.11"
  }
 },
 "nbformat": 4,
 "nbformat_minor": 0
}
