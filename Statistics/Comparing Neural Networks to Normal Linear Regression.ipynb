{
 "cells": [
  {
   "cell_type": "markdown",
   "metadata": {},
   "source": [
    "I believe that I understand linear regression - how it behaves, how to evaluate if a fit is good or not, how to evaluate uncertainties in the underlying model, etc. On the other hand, I have a pretty poor understanding of what neural networks are doing, and how to extract uncertainties from the underlying model. Hence, in this document, I will compare the use of a neural network using theano with linear regression to attempt to get a feel for it. "
   ]
  },
  {
   "cell_type": "code",
   "execution_count": 2,
   "metadata": {
    "collapsed": true
   },
   "outputs": [],
   "source": [
    "%matplotlib inline\n",
    "import matplotlib\n",
    "import matplotlib.pyplot as plt\n",
    "import seaborn as sns\n",
    "sns.set_context('notebook')\n",
    "sns.set_style('white')\n",
    "\n",
    "import numpy as np\n",
    "\n",
    "import theano\n",
    "import theano.tensor as T\n",
    "rng = np.random.RandomState(42)\n",
    "\n",
    "import sys\n",
    "import time\n",
    "\n",
    "theano.config.floatX = 'float32'"
   ]
  },
  {
   "cell_type": "markdown",
   "metadata": {},
   "source": [
    "I will construct a neural network with a scalar input $x$, and a scalar input $y$, with a hidden layer of arbitrary size (25 in this case). This neural network can be described as: ```y = W1 * sigmoid(W0 * x + b0) + b1```. Here are the initialized variables."
   ]
  },
  {
   "cell_type": "code",
   "execution_count": 134,
   "metadata": {
    "collapsed": false
   },
   "outputs": [],
   "source": [
    "# Step 1. Declare Theano variables\n",
    "x = T.fmatrix()\n",
    "y = T.fmatrix()\n",
    "# size of our image patches, and number of output units (classes)\n",
    "hidden_size = 25\n",
    "W0 = theano.shared(value=np.zeros((1, hidden_size),                            \n",
    "                dtype=theano.config.floatX),\n",
    "                name='W0',\n",
    "                borrow=True\n",
    "        )\n",
    "b0 = theano.shared(value=np.zeros((hidden_size,), # number of output units (classes)\n",
    "                dtype=theano.config.floatX),\n",
    "                name='b0',\n",
    "                borrow=True\n",
    "        )\n",
    "W1 = theano.shared(value=np.zeros((hidden_size, 1),                            \n",
    "                dtype=theano.config.floatX),\n",
    "                name='W1',\n",
    "                borrow=True\n",
    "        )\n",
    "b1 = theano.shared(value=np.zeros((1,), # number of output units (classes)\n",
    "                dtype=theano.config.floatX),\n",
    "                name='b1',\n",
    "                borrow=True\n",
    "        )"
   ]
  },
  {
   "cell_type": "markdown",
   "metadata": {},
   "source": [
    "And here is the definition of the fit function `y_pred` as described previously. It will minimize the cost function, which is simple least squares."
   ]
  },
  {
   "cell_type": "code",
   "execution_count": 135,
   "metadata": {
    "collapsed": true
   },
   "outputs": [],
   "source": [
    "# Step 2. Construct Theano expression graph\n",
    "\n",
    "y_pred = (T.dot(T.nnet.softmax(T.dot(x, W0) + b0), W1) + b1)\n",
    "cost   = T.mean((y - y_pred)**2)"
   ]
  },
  {
   "cell_type": "markdown",
   "metadata": {},
   "source": [
    "Here are the gradients of the cost function with respect to each free parameter in the model, and the update steps based on the gradient."
   ]
  },
  {
   "cell_type": "code",
   "execution_count": 136,
   "metadata": {
    "collapsed": false
   },
   "outputs": [],
   "source": [
    "g_W0 = T.grad(cost=cost, wrt=W0)\n",
    "g_b0 = T.grad(cost=cost, wrt=b0)\n",
    "g_W1 = T.grad(cost=cost, wrt=W1)\n",
    "g_b1 = T.grad(cost=cost, wrt=b1)\n",
    "\n",
    "learning_rate = 0.1\n",
    "\n",
    "updates = [(W0, W0 - learning_rate * g_W0),\n",
    "           (b0, b0 - learning_rate * g_b0),\n",
    "           (W1, W1 - learning_rate * g_W1),\n",
    "           (b1, b1 - learning_rate * g_b1),]"
   ]
  },
  {
   "cell_type": "markdown",
   "metadata": {},
   "source": [
    "This is the compiled training and validation function for the model"
   ]
  },
  {
   "cell_type": "code",
   "execution_count": 137,
   "metadata": {
    "collapsed": true
   },
   "outputs": [],
   "source": [
    "# Step 3. Compile expressions to functions\n",
    "train = theano.function(inputs=[x, y],\n",
    "                 outputs=cost,\n",
    "                 updates=updates)\n",
    "\n",
    "validate = theano.function(inputs=[x, y],\n",
    "                           outputs=cost)"
   ]
  },
  {
   "cell_type": "markdown",
   "metadata": {},
   "source": [
    "Here is where I am defining my artificial data to use on the neural network. The artificial data is just a 1D polynomial."
   ]
  },
  {
   "cell_type": "code",
   "execution_count": 278,
   "metadata": {
    "collapsed": false
   },
   "outputs": [],
   "source": [
    "N = 100\n",
    "valid = N//10\n",
    "xe = np.linspace(-2.0, 2.0, N)\n",
    "ye = 2 * (1 + xe**2/4.0) * np.random.normal(size=(N,)) + 5 * xe**2 - 3 * xe**3 * 2.0 + xe - 1 + xe**4\n",
    "perm = np.random.permutation(N,)\n",
    "xe = np.expand_dims(np.array(xe[perm], dtype=theano.config.floatX), 1)\n",
    "ye = np.expand_dims(np.array(ye[perm], dtype=theano.config.floatX), 1)\n",
    "valid_x = xe[:valid]\n",
    "valid_y = ye[:valid]\n",
    "train_x = xe[valid:]\n",
    "train_y = ye[valid:]"
   ]
  },
  {
   "cell_type": "markdown",
   "metadata": {},
   "source": [
    "Now initialize all of the variables before fitting"
   ]
  },
  {
   "cell_type": "code",
   "execution_count": 281,
   "metadata": {
    "collapsed": false
   },
   "outputs": [],
   "source": [
    "# try some initialization:\n",
    "valid_x = theano.shared(valid_x)\n",
    "train_x = theano.shared(train_x)\n",
    "valid_y = theano.shared(valid_y)\n",
    "train_y = theano.shared(train_y)\n",
    "\n",
    "W0.set_value(np.array(\n",
    "                np.random.normal(size=tuple(W0.shape.eval())),\n",
    "                dtype=theano.config.floatX))\n",
    "b0.set_value(np.array(\n",
    "             np.random.normal(size=tuple(b0.shape.eval())),\n",
    "                dtype=theano.config.floatX))\n",
    "W1.set_value(np.array(\n",
    "             np.random.normal(size=tuple(W1.shape.eval())),\n",
    "                dtype=theano.config.floatX))\n",
    "b1.set_value(np.array(\n",
    "             np.random.normal(size=tuple(b1.shape.eval())),\n",
    "                dtype=theano.config.floatX))"
   ]
  },
  {
   "cell_type": "markdown",
   "metadata": {},
   "source": [
    "And here we are performing the computation for the neural network."
   ]
  },
  {
   "cell_type": "code",
   "execution_count": 288,
   "metadata": {
    "collapsed": false
   },
   "outputs": [
    {
     "name": "stdout",
     "output_type": "stream",
     "text": [
      "The code ran for 26.882944 seconds\n"
     ]
    }
   ],
   "source": [
    "# Step 4. Perform computation\n",
    "train_monitor = []\n",
    "val_monitor = []\n",
    "\n",
    "n_epochs = 30000\n",
    "\n",
    "start_time = time.clock()\n",
    "for epoch in range(n_epochs):\n",
    "    loss = train(train_x.eval(), train_y.eval())\n",
    "    train_monitor.append(validate(train_x.eval(), train_y.eval()))\n",
    "    val_monitor.append(validate(valid_x.eval(), valid_y.eval()))\n",
    "    if epoch%2 == 0:\n",
    "        pass\n",
    "        #print \"Iteration: \", epoch\n",
    "        #print \"Training error, validation error: \", train_monitor[-1], val_monitor[-1]\n",
    "end_time = time.clock()    \n",
    "print 'The code ran for %f seconds' % ((end_time - start_time))"
   ]
  },
  {
   "cell_type": "markdown",
   "metadata": {},
   "source": [
    "And here is a plot of the training and validation error as a function of epoch."
   ]
  },
  {
   "cell_type": "code",
   "execution_count": 289,
   "metadata": {
    "collapsed": false
   },
   "outputs": [
    {
     "data": {
      "image/png": "[encoded data removed]",
      "text/plain": [
       "<matplotlib.figure.Figure at 0x20c87470>"
      ]
     },
     "metadata": {},
     "output_type": "display_data"
    }
   ],
   "source": [
    "plt.plot(train_monitor, c='r')\n",
    "plt.plot(val_monitor, c='b')\n",
    "plt.xlabel('Number of Epochs')\n",
    "plt.ylabel('mean squared error')\n",
    "plt.show()"
   ]
  },
  {
   "cell_type": "markdown",
   "metadata": {},
   "source": [
    "Then, here is the least squares fit, and the comparison with the neural network fit"
   ]
  },
  {
   "cell_type": "code",
   "execution_count": 290,
   "metadata": {
    "collapsed": false
   },
   "outputs": [
    {
     "data": {
      "text/plain": [
       "<matplotlib.legend.Legend at 0x22bea110>"
      ]
     },
     "execution_count": 290,
     "metadata": {},
     "output_type": "execute_result"
    },
    {
     "data": {
      "image/png": "[encoded data removed]",
      "text/plain": [
       "<matplotlib.figure.Figure at 0x20e94270>"
      ]
     },
     "metadata": {},
     "output_type": "display_data"
    }
   ],
   "source": [
    "y_hat = theano.function(inputs=[x],\n",
    "                outputs=y_pred)\n",
    "\n",
    "x_test = np.array(np.expand_dims(np.linspace(-2.2, 2.2, 200), 1), dtype=theano.config.floatX)\n",
    "y_test = y_hat(x_test)\n",
    "order = 8\n",
    "\n",
    "regr = PolynomialFit1D(np.squeeze(xe), np.squeeze(ye), order= order, \n",
    "                       label='order=' + str(order) + ' polynomial fit')\n",
    "regr.plot(fit_expression=False)\n",
    "plt.plot(x_test, y_test, label='neural network with 1 hidden layer of ' + str(hidden_size), color='r')\n",
    "plt.legend(loc='best')"
   ]
  }
 ],
 "metadata": {
  "kernelspec": {
   "display_name": "Python 3",
   "language": "python",
   "name": "python3"
  },
  "language_info": {
   "codemirror_mode": {
    "name": "ipython",
    "version": 3
   },
   "file_extension": ".py",
   "mimetype": "text/x-python",
   "name": "python",
   "nbconvert_exporter": "python",
   "pygments_lexer": "ipython3",
   "version": "3.5.1"
  }
 },
 "nbformat": 4,
 "nbformat_minor": 0
}
