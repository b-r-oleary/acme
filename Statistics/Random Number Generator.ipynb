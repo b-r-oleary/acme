{
 "cells": [
  {
   "cell_type": "markdown",
   "metadata": {},
   "source": [
    "# Normal Irrational Numbers As Pseudo-Random Number Generators\n",
    "\n",
    "In this document, I will explore the possibility of using a 'normal' irrational number as the source of a pseudo-random number generator.\n",
    "\n",
    "See the wikiperdia page: https://en.wikipedia.org/wiki/Normal_number\n",
    "\n",
    "Which defines a 'normal number' as an irrational number whose digits in every base $b$ is distributed uniformly in the sense that each of the $b$ digit values has the same probability $1/b$, also all possible $b^2$ pairs of digits are equally likely with probability $1/b^2$, all $b^3$ triplets of digits equally likely with probability $1/b^3$, etc."
   ]
  },
  {
   "cell_type": "code",
   "execution_count": 152,
   "metadata": {
    "collapsed": true
   },
   "outputs": [],
   "source": [
    "import sys\n",
    "sys.path.append('C:/Users/Brendon/Dropbox/Scrypts/Statistics/python')\n",
    "\n",
    "import statfunctions as sf\n",
    "%matplotlib inline\n",
    "import numpy as np\n",
    "import matplotlib.pyplot as plt\n",
    "import seaborn as sns\n",
    "sns.set_context('poster')\n",
    "sns.set_style('white')"
   ]
  },
  {
   "cell_type": "markdown",
   "metadata": {},
   "source": [
    "Here is an example of an algorithm used to calculate pi"
   ]
  },
  {
   "cell_type": "code",
   "execution_count": 91,
   "metadata": {
    "collapsed": true
   },
   "outputs": [],
   "source": [
    "def pi_gauss_legendre(n=3):\n",
    "    \"\"\"\n",
    "    calculates pi using the gauss-legendre algorithm:\n",
    "    https://en.wikipedia.org/wiki/Gauss–Legendre_algorithm\n",
    "    \n",
    "    inputs:\n",
    "    n: (int) number of iterations\n",
    "    \n",
    "    output: (float) estimate of pi\n",
    "    \"\"\"\n",
    "    # these are the seed parameters\n",
    "    a = 1\n",
    "    b = 1/np.sqrt(2)\n",
    "    t = 1/4.\n",
    "    p = 1\n",
    "    \n",
    "    # this is the rule for iterating the parameters:\n",
    "    iterate_pi = lambda a, b, t, p: ((a + b)/2.,\n",
    "                                     np.sqrt(a * b),\n",
    "                                     t - p * ((a - b)/2.)**2,\n",
    "                                     2 * p)\n",
    "    \n",
    "    # this is the estimate of pi on each iteration\n",
    "    pi = lambda a, b, t, p: (a + b)**2 / (4 * t)\n",
    "    \n",
    "    # this evaluates pi to the specified degree of precision:\n",
    "    for i in range(n):\n",
    "        a, b, t, p = iterate_pi(a, b, t, p)\n",
    "        \n",
    "    return pi(a, b, t, p)"
   ]
  },
  {
   "cell_type": "markdown",
   "metadata": {},
   "source": [
    "Here is a comparison between this calculation after 3 iterations and the numpy provided value for pi"
   ]
  },
  {
   "cell_type": "code",
   "execution_count": 92,
   "metadata": {
    "collapsed": false
   },
   "outputs": [
    {
     "name": "stdout",
     "output_type": "stream",
     "text": [
      "3.14159265359\n",
      "3.14159265359\n"
     ]
    }
   ],
   "source": [
    "print pi_gauss_legendre(3)\n",
    "print np.pi"
   ]
  },
  {
   "cell_type": "markdown",
   "metadata": {},
   "source": [
    "We are less interested in algorithms like those in `pi_gauss_legendre` because it is not so clear how to extract each digit from the algorithm (though if we studied it would could certainly extract such an algorithm). Instead we are interested in **spigot algorithms** that spit out the next digit in a sequence.\n",
    "\n",
    "Here is a meta-class for `RandomNumberGenerator` based on these types of algorithms, and a specific instance `Pi`."
   ]
  },
  {
   "cell_type": "code",
   "execution_count": 167,
   "metadata": {
    "collapsed": false
   },
   "outputs": [],
   "source": [
    "class RandomNumberGenerator(object):\n",
    "    \"\"\"\n",
    "    this is a meta-class for describing random number\n",
    "    generators based on normal irrational numbers.\n",
    "    \n",
    "    parameters to be specified in __init__:\n",
    "    self.initial_params: (tuple) list of parameters the starts the algorithm\n",
    "    self.decimal_location: (int) location of the decimal place relative to the digits produced\n",
    "    self.output_parameter_index: (int) index for self.params that contains the output digit\n",
    "    \n",
    "    functions to be specified:\n",
    "    self.iterate_digit: takes in arguments, and returns a tupe of the modifies arguments after\n",
    "                        iterating the digit.\n",
    "    \"\"\"\n",
    "    \n",
    "    def __init__(self):\n",
    "        self.initial_params = tuple()\n",
    "        self.params = self.initial_params\n",
    "        self.decimal_location = 0\n",
    "        self.output_parameter_index = 0\n",
    "    \n",
    "    def reinitialize(self):\n",
    "        self.params = self.initial_params\n",
    "        return\n",
    "    \n",
    "    def iterate_digit(self,*args):\n",
    "        pass\n",
    "    \n",
    "    def spigot(self):\n",
    "        digit = int(self.params[self.output_parameter_index])\n",
    "        self.params = self.iterate_digit(*self.params)\n",
    "        return digit\n",
    "        \n",
    "    def iterator(self, number):\n",
    "        for i in range(number):\n",
    "            yield self.spigot()\n",
    "            \n",
    "    def evaluate(self, number):\n",
    "        \n",
    "        current_params = self.params\n",
    "        self.reinitialize()\n",
    "        \n",
    "        digits = [str(i) for i in self.iterator(number)]\n",
    "        \n",
    "        self.params = current_params\n",
    "        \n",
    "        if self.decimal_location == 0:\n",
    "            output = '0.' + ''.join(digits)\n",
    "        elif self.decimal_location < 0:\n",
    "            output = '0.' + ''.join(['0'] * abs(self.decimal_location)) * ''.join(digits)\n",
    "        elif self.decimal_location > 0:\n",
    "            output = ''.join(digits[0:self.decimal_location]) + '.' + ''.join(digits[self.decimal_location:])\n",
    "        \n",
    "        return output\n",
    "\n",
    "class Pi(RandomNumberGenerator):\n",
    "    \n",
    "    def __init__(self):\n",
    "        self.initial_params = (1, 0, 1, 1, 3, 3)\n",
    "        self.params = self.initial_params\n",
    "        self.decimal_location = 1\n",
    "        self.output_parameter_index = 4\n",
    "        \n",
    "    def iterate_digit(self, q, r, t, k, m, x):\n",
    "        \n",
    "        q, r, t, k, m, x = ( 10 * q, \n",
    "                             10 * (r - m * t), \n",
    "                             t, \n",
    "                             k, \n",
    "                            (10 * (3 * q + r)) // t - 10 * m, \n",
    "                             x)\n",
    "        \n",
    "        while 4 * q + r - t >= m * t:\n",
    "            q, r, t, k, m, x = ( q * k, \n",
    "                                (2 * q + r) * x, \n",
    "                                 t * x, k + 1, \n",
    "                                (q * (7 * k + 2) + r * x) // (t * x), \n",
    "                                 x + 2)\n",
    "        \n",
    "        return (q, r, t, k, m, x)"
   ]
  },
  {
   "cell_type": "markdown",
   "metadata": {},
   "source": [
    "Here is the random number generator in action. Here, I can display the value of $pi$ to arbitrary precision (this is mainly as a check and does not change the state of the random number generator). Then I can spit out an arbitrary number of digits from pi and can perform statistical tests on them. With the current implimentation of the number generator, I can't reasonably generate more than around 10000 digits $-$ some of the parameters in `self.params` get very large and significantly slow down computation in this range."
   ]
  },
  {
   "cell_type": "code",
   "execution_count": 168,
   "metadata": {
    "collapsed": false
   },
   "outputs": [
    {
     "name": "stdout",
     "output_type": "stream",
     "text": [
      "3.141592653589793238462643383279502884197169399375105820974944592307816406286208998628034825342117067\n"
     ]
    }
   ],
   "source": [
    "pi = Pi()\n",
    "print pi.evaluate(100)\n",
    "digits = [i for i in pi.iterator(10000)]"
   ]
  },
  {
   "cell_type": "markdown",
   "metadata": {},
   "source": [
    "Here is a function to generate histograms of digits, pairs of digits, etc... to verify normality of the random number generator."
   ]
  },
  {
   "cell_type": "code",
   "execution_count": 163,
   "metadata": {
    "collapsed": true
   },
   "outputs": [],
   "source": [
    "def histograms(digits, orders=3):\n",
    "    colors = sns.color_palette()\n",
    "    types = ['digit', 'digit pair', 'digit triplet']\n",
    "    for i in range(orders):\n",
    "        \n",
    "        items = [tuple(digits[(i + 1) * k + j] for j in range(i + 1)) for k in range(len(digits)//(i + 1))]\n",
    "        S     = set(items)\n",
    "        counts= np.array([items.count(s) for s in S])\n",
    "        dcounts=np.sqrt(counts)\n",
    "        x     = np.array(list(range(len(counts))))\n",
    "        \n",
    "        plt.subplot(2,2,i + 1)\n",
    "        \n",
    "        xlim = [-.5, len(S) - .5]\n",
    "        y_range = max(counts + dcounts) - min(counts - dcounts)\n",
    "        ylim = [min(counts - dcounts) - y_range/10., max(counts + dcounts) + y_range/10.]\n",
    "        \n",
    "        expected = (len(items)/float(len(S)))\n",
    "        \n",
    "        chi2, dchi2 = sf.chi_squared(counts - expected, dcounts, ddof=0)\n",
    "        chi2string = sf.scientific_string(chi2,dchi2,style='latex')\n",
    "        label = '$\\chi^2 = ' + chi2string + '$'\n",
    "        \n",
    "        plt.errorbar(x, counts, dcounts,fmt='.', color=colors[0],alpha=.75, label=label)\n",
    "        plt.plot(xlim, expected * np.array([1, 1]), '-', color=colors[0], alpha=1)\n",
    "        plt.axis(xlim + ylim)\n",
    "        plt.xlabel(types[i])\n",
    "        plt.ylabel('counts')\n",
    "        plt.legend(loc='best', frameon=True)\n",
    "        \n",
    "    plt.suptitle('distribution of digit and digit pairs for digits drawn from $\\pi$',size=20)\n",
    "    #plt.tight_layout()\n",
    "        \n",
    "    return"
   ]
  },
  {
   "cell_type": "code",
   "execution_count": 164,
   "metadata": {
    "collapsed": false
   },
   "outputs": [
    {
     "data": {
      "image/png": "[encoded data removed]",
      "text/plain": [
       "<matplotlib.figure.Figure at 0x12c30d30>"
      ]
     },
     "metadata": {},
     "output_type": "display_data"
    }
   ],
   "source": [
    "histograms(digits, 2)"
   ]
  },
  {
   "cell_type": "markdown",
   "metadata": {},
   "source": [
    "It seems that irrational numbers are not good random number generators because they don't repeat, which means that the furthur along in the calculation I get, the larger the memory that I need to store to create the next number in the sequence becomes. Googling around I found some instances of generating digits of $\\pi$ with speeds of order $O(n^3 \\log{n}^3)$ and $O(n^2)$. Usual PRNGs can generate numbers with speeds of O(1).\n",
    "\n",
    "Here is a comment that I saw on the internet regarding why $\\pi$ is a bad PRNG:\n",
    "(from https://www.quora.com/Why-do-we-need-random-number-generators-if-%CF%80-e-and-other-irrational-numbers-are-sources-of-non-repeating-digits)\n",
    "\n",
    "Just to list a few reasons:\n",
    "\n",
    "1. It is slow. Existing RNGs (Lagged Fibonacci, Mersenne twister, etc) can generate 10,000,000 numbers in a split second. How long will it take to compute 10,000,000 digits of pi?\n",
    "\n",
    "2. Hard to restore previous state / set random seed. To find the n-th digit of pi, you usually have to find the previous n-1 digits (unless you are working on base 16). It is not a problem if you are using the random numbers only once, and do not need to set a random seed (it will still be considerably slower than existing RNGs). But if you want to start at the n-th digit of pi (e.g. when you continue a simulation you have previously stopped, you have to restore the state of the RNG), you will waste much time calculating the previous n-1 digits again.\n",
    "\n",
    "3. It is memory consuming. Existing RNGs have a finite period, after which the numbers will repeat (though the period is so long that this is impossible to notice). Using pi or e does sound appealing since its digits are provably non repetitive, but this comes with a cost. Every RNG with finite state will eventually enter a loop. If a RNG won't enter a loop, its memory consumption has to be unbounded. For instance, you cannot compute the n-th digit of pi without computing the previous n-1 digits. Therefore the memory consumption grows as more digits are computed. After you have generated 10,000,000 random numbers using the digits of pi, your RNG will eat up (at least) several tens of MBs of your RAM.\n",
    "\n",
    "4. A good random number generator should produce uniformly distributed integers, and also the joint distribution between two (and more) successive numbers generated should also be uniform. Existing RNGs can be tested that they approximately satisfy this property. The digits of pi and e are believed to exhibit this property (called \"normal number\"), but we don't have a proof yet.\n",
    "\n",
    "Here is a paper that actually tried it:\n",
    "http://ieeexplore.ieee.org/stamp/stamp.jsp?tp=&arnumber=6143212\n",
    "\n",
    "Here is a more reputable looking investigating into PRNGs from irrational numbers:\n",
    "http://www.emis.de/journals/EM/expmath/volumes/11/11.4/pp527_546.pdf"
   ]
  },
  {
   "cell_type": "code",
   "execution_count": 169,
   "metadata": {
    "collapsed": true
   },
   "outputs": [],
   "source": [
    "from scipy.special import erf"
   ]
  },
  {
   "cell_type": "code",
   "execution_count": 171,
   "metadata": {
    "collapsed": false
   },
   "outputs": [
    {
     "data": {
      "text/plain": [
       "0.31731050786291415"
      ]
     },
     "execution_count": 171,
     "metadata": {},
     "output_type": "execute_result"
    }
   ],
   "source": [
    "1 - erf(1/np.sqrt(2))"
   ]
  },
  {
   "cell_type": "code",
   "execution_count": null,
   "metadata": {
    "collapsed": true
   },
   "outputs": [],
   "source": []
  }
 ],
 "metadata": {
  "kernelspec": {
   "display_name": "Python 2",
   "language": "python",
   "name": "python2"
  },
  "language_info": {
   "codemirror_mode": {
    "name": "ipython",
    "version": 2
   },
   "file_extension": ".py",
   "mimetype": "text/x-python",
   "name": "python",
   "nbconvert_exporter": "python",
   "pygments_lexer": "ipython2",
   "version": "2.7.10"
  }
 },
 "nbformat": 4,
 "nbformat_minor": 0
}
