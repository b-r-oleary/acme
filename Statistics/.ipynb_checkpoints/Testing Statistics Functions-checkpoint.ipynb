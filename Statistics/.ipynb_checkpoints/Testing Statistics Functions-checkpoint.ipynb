{
 "cells": [
  {
   "cell_type": "markdown",
   "metadata": {},
   "source": [
    "# Tests for Statistics Functions\n",
    "\n",
    "I have written several of my own statistics functions to which I have found not analog amongst the numpy and scipy modules. Howver, since I have written these functions, there is more of a burden to perform explicit tests of these functions to show that they work correctly."
   ]
  },
  {
   "cell_type": "code",
   "execution_count": 1,
   "metadata": {
    "collapsed": false
   },
   "outputs": [
    {
     "name": "stderr",
     "output_type": "stream",
     "text": [
      "C:\\Anaconda\\envs\\py35\\lib\\site-packages\\matplotlib\\__init__.py:872: UserWarning: axes.color_cycle is deprecated and replaced with axes.prop_cycle; please use the latter.\n",
      "  warnings.warn(self.msg_depr % (key, alt_key))\n"
     ]
    }
   ],
   "source": [
    "import sys\n",
    "sys.path.insert(1,'./code')\n",
    "\n",
    "import numpy as np\n",
    "from statfunctions import *"
   ]
  },
  {
   "cell_type": "code",
   "execution_count": 9,
   "metadata": {
    "collapsed": false
   },
   "outputs": [
    {
     "name": "stdout",
     "output_type": "stream",
     "text": [
      "[-inf  -1.   0.   1.  inf  nan -inf  -1.   0.   1.  inf  nan -inf  -1.   0.\n",
      "   1.  inf  nan -inf  -1.   0.   1.  inf  nan -inf  -1.   0.   1.  inf  nan\n",
      " -inf  -1.   0.   1.  inf  nan]\n",
      "[-inf -inf -inf -inf -inf -inf  -1.  -1.  -1.  -1.  -1.  -1.   0.   0.   0.\n",
      "   0.   0.   0.   1.   1.   1.   1.   1.   1.  inf  inf  inf  inf  inf  inf\n",
      "  nan  nan  nan  nan  nan  nan]\n",
      "[ 0.  0.  0.  0.  0.  0.  0.  0.  0.  0.  0.  0.  0.  0.  0.  0.  0.  0.\n",
      "  0. -1.  0.  1.  0.  0.  0.  0.  0.  0.  0.  0.  0.  0.  0.  0.  0.  0.]\n"
     ]
    },
    {
     "ename": "UnboundLocalError",
     "evalue": "local variable 'b' referenced before assignment",
     "output_type": "error",
     "traceback": [
      "\u001b[1;31m---------------------------------------------------------------------------\u001b[0m",
      "\u001b[1;31mUnboundLocalError\u001b[0m                         Traceback (most recent call last)",
      "\u001b[1;32m<ipython-input-9-3cbf97c60a8c>\u001b[0m in \u001b[0;36m<module>\u001b[1;34m()\u001b[0m\n\u001b[0;32m     30\u001b[0m     \u001b[1;32mreturn\u001b[0m \u001b[0mresult\u001b[0m\u001b[1;33m\u001b[0m\u001b[0m\n\u001b[0;32m     31\u001b[0m \u001b[1;33m\u001b[0m\u001b[0m\n\u001b[1;32m---> 32\u001b[1;33m \u001b[0mtest_damage_control\u001b[0m\u001b[1;33m(\u001b[0m\u001b[1;33m)\u001b[0m\u001b[1;33m\u001b[0m\u001b[0m\n\u001b[0m",
      "\u001b[1;32m<ipython-input-9-3cbf97c60a8c>\u001b[0m in \u001b[0;36mtest_damage_control\u001b[1;34m()\u001b[0m\n\u001b[0;32m     17\u001b[0m \u001b[1;33m\u001b[0m\u001b[0m\n\u001b[0;32m     18\u001b[0m     \u001b[0mprint\u001b[0m\u001b[1;33m(\u001b[0m\u001b[0ma\u001b[0m\u001b[1;33m)\u001b[0m\u001b[1;33m\u001b[0m\u001b[0m\n\u001b[1;32m---> 19\u001b[1;33m     \u001b[0mprint\u001b[0m\u001b[1;33m(\u001b[0m\u001b[0mb\u001b[0m\u001b[1;33m)\u001b[0m\u001b[1;33m\u001b[0m\u001b[0m\n\u001b[0m\u001b[0;32m     20\u001b[0m     \u001b[0mprint\u001b[0m\u001b[1;33m(\u001b[0m\u001b[0mda\u001b[0m\u001b[1;33m)\u001b[0m\u001b[1;33m\u001b[0m\u001b[0m\n\u001b[0;32m     21\u001b[0m     \u001b[0mprint\u001b[0m\u001b[1;33m(\u001b[0m\u001b[0mdb\u001b[0m\u001b[1;33m)\u001b[0m\u001b[1;33m\u001b[0m\u001b[0m\n",
      "\u001b[1;31mUnboundLocalError\u001b[0m: local variable 'b' referenced before assignment"
     ]
    }
   ],
   "source": [
    "def test_damage_control():\n",
    "    \"\"\"\n",
    "    \n",
    "    \"\"\"\n",
    "    # these are some of the types of possible inputs\n",
    "    types = [-np.inf, -1, 0, 1, np.inf, np.NaN]\n",
    "    \n",
    "    # create numpy arrays with all combinations of these inputs\n",
    "    # between the means and uncertainties:\n",
    "    a  = np.array(types * len(types))\n",
    "    da = np.array([types[i//len(types)] for i in range(len(types)**2)])\n",
    "    \n",
    "    print(a)\n",
    "    print(da)\n",
    "    \n",
    "    damage_control(a, da)\n",
    "    \n",
    "    b  = np.array([0.] * 19 + [-1., 0., +1] + [0.] * 14)\n",
    "    db = np.array([np.inf] * 19 + [1.] * 3 + [np.inf] * 14)\n",
    "    \n",
    "    print(a)\n",
    "    print(b)\n",
    "    print(da)\n",
    "    print(db)\n",
    "    \n",
    "    result = (np.all(np.where(a == b)) and np.all(np.where(da == db)))\n",
    "    return result\n",
    "\n",
    "test_damage_control()"
   ]
  },
  {
   "cell_type": "code",
   "execution_count": 2,
   "metadata": {
    "collapsed": false
   },
   "outputs": [
    {
     "name": "stdout",
     "output_type": "stream",
     "text": [
      "[0 0 3 0]\n",
      "[ inf  inf   1.  inf]\n"
     ]
    }
   ],
   "source": [
    "a = np.array([1,2,3,4])\n",
    "da = np.array([-1,0,1,np.inf])\n",
    "\n",
    "damage_control(a,da)\n",
    "print(a)\n",
    "print(da)"
   ]
  },
  {
   "cell_type": "code",
   "execution_count": null,
   "metadata": {
    "collapsed": true
   },
   "outputs": [],
   "source": []
  }
 ],
 "metadata": {
  "kernelspec": {
   "display_name": "Python 3",
   "language": "python",
   "name": "python3"
  },
  "language_info": {
   "codemirror_mode": {
    "name": "ipython",
    "version": 3
   },
   "file_extension": ".py",
   "mimetype": "text/x-python",
   "name": "python",
   "nbconvert_exporter": "python",
   "pygments_lexer": "ipython3",
   "version": "3.5.1"
  }
 },
 "nbformat": 4,
 "nbformat_minor": 0
}
