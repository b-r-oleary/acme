{
 "cells": [
  {
   "cell_type": "code",
   "execution_count": 3,
   "metadata": {
    "collapsed": true
   },
   "outputs": [],
   "source": [
    "%matplotlib inline\n",
    "import sys\n",
    "sys.path.append('./code')\n",
    "sys.path.append('../DatabaseAccess/code')\n",
    "\n",
    "from simulations import IntegrateSchrodingerEquation\n",
    "from database_access import load\n",
    "from beam_source import BeamSource\n",
    "import numpy as np\n",
    "import pandas as pd\n",
    "import matplotlib.pyplot as plt\n",
    "import seaborn as sns\n",
    "sns.set_context('notebook', font_scale=1)\n",
    "sns.set_style('white')"
   ]
  },
  {
   "cell_type": "code",
   "execution_count": 4,
   "metadata": {
    "collapsed": true
   },
   "outputs": [],
   "source": [
    "bs  = BeamSource()\n",
    "trj = bs.generate_molecules(5000) "
   ]
  },
  {
   "cell_type": "markdown",
   "metadata": {},
   "source": [
    "I need to do a few things for the simulation now:\n",
    "\n",
    "1. create laser beams with properties like those used in the experiment (with spatial variation, pointing, and collimation variation)\n",
    "2. create a hamiltonian model for evaluating interactions (how to include the delta_g factor, etc)\n",
    "    - get the electric and magnetic and laser fields in the molecule rest frame for each molecule\n",
    "    - choose a set of states that I want to involve perturbatively\n",
    "    - diagonalize the hamiltonian\n",
    "    - project onto a subspace corresponding to a set of states that I want to include dynamically\n",
    "    - integrating the Schrodinger Equation\n",
    "3. So then once I have a simulation set up, how do I vary parameters? How do I allow parameters to drift? How do I allow uncertainty in parameters?"
   ]
  },
  {
   "cell_type": "code",
   "execution_count": 6,
   "metadata": {
    "collapsed": false
   },
   "outputs": [],
   "source": [
    "class Field(object):\n",
    "    \"\"\"\n",
    "    this is an object to house the electric, magnetic, and laser fields\n",
    "    and to describe their spatial variation\n",
    "    \"\"\"\n",
    "    pass\n",
    "\n",
    "class MoleculeModel(object):\n",
    "    \"\"\"\n",
    "    this is an object to house a model of the molecule including a set of states\n",
    "    broken down by those to include perturbatively, and those to include dynamically,\n",
    "    and the properties of those states.\n",
    "    \"\"\"\n",
    "    pass\n",
    "\n",
    "class ExperimentModel(object):\n",
    "    \"\"\"\n",
    "    this object will generate Hamiltonians given a Trajectory, a set of Fields, and a Molecule Model\n",
    "    this will call upon IntegrateSchrodingerEquation, or IntegrateMasterEquation to evolve the system\n",
    "    in time. This will enable parallel processing of different molecules in the beam\n",
    "    \"\"\"\n",
    "    pass"
   ]
  }
 ],
 "metadata": {
  "kernelspec": {
   "display_name": "Python 2",
   "language": "python",
   "name": "python2"
  },
  "language_info": {
   "codemirror_mode": {
    "name": "ipython",
    "version": 2
   },
   "file_extension": ".py",
   "mimetype": "text/x-python",
   "name": "python",
   "nbconvert_exporter": "python",
   "pygments_lexer": "ipython2",
   "version": "2.7.11"
  }
 },
 "nbformat": 4,
 "nbformat_minor": 0
}
