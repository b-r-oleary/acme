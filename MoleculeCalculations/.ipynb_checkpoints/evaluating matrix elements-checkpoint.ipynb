{
 "cells": [
  {
   "cell_type": "code",
   "execution_count": 5,
   "metadata": {
    "collapsed": false
   },
   "outputs": [],
   "source": [
    "import sys\n",
    "sys.path.append('./code')\n",
    "\n",
    "import matrix_elements as me\n",
    "import numpy as np\n",
    "import copy"
   ]
  },
  {
   "cell_type": "code",
   "execution_count": 24,
   "metadata": {
    "collapsed": false
   },
   "outputs": [],
   "source": [
    "s1 = A.states[0]"
   ]
  },
  {
   "cell_type": "code",
   "execution_count": null,
   "metadata": {
    "collapsed": true
   },
   "outputs": [],
   "source": [
    "s1."
   ]
  },
  {
   "cell_type": "code",
   "execution_count": 90,
   "metadata": {
    "collapsed": false
   },
   "outputs": [
    {
     "name": "stdout",
     "output_type": "stream",
     "text": [
      "|H, j=1, m=-1, w=-1>\n",
      "|H, j=1, m=0, w=-1>\n"
     ]
    }
   ],
   "source": [
    "print basis[0]\n",
    "print basis[1]"
   ]
  },
  {
   "cell_type": "code",
   "execution_count": 93,
   "metadata": {
    "collapsed": false
   },
   "outputs": [
    {
     "data": {
      "text/plain": [
       "array([-0.35355339+0.j        ,  0.00000000+0.35355339j,  0.00000000+0.j        ])"
      ]
     },
     "execution_count": 93,
     "metadata": {},
     "output_type": "execute_result"
    }
   ],
   "source": [
    "Stark = ElectricDipoleOperator(electronic_matrix_elements={('H', 0, 'H'):1})\n",
    "Stark.to_spherical_vector([0,1,0])\n",
    "Stark.matrix_element(basis[0], basis[1])#, vector=np.array([1,-1j,0])/np.sqrt(2))"
   ]
  },
  {
   "cell_type": "code",
   "execution_count": 86,
   "metadata": {
    "collapsed": false
   },
   "outputs": [],
   "source": [
    "class SphericalTensorOperator(object):\n",
    "    \n",
    "    operator = 'generic spherical tensor operator'\n",
    "    \n",
    "    def __init__(self, rank):\n",
    "        self.rank = rank\n",
    "        self.spherical_vectors = {+1 : np.array([-1, -1j, 0], dtype='complex128')/np.sqrt(2),\n",
    "                                   0 : np.array([ 0,   0, 1], dtype='complex128'),\n",
    "                                  -1 : np.array([+1, -1j, 0], dtype='complex128')/np.sqrt(2)}\n",
    "    \n",
    "    def to_spherical_vector(self, vector):\n",
    "        vector = np.array(vector, dtype='complex128')\n",
    "        s_vector = {}\n",
    "        for k, v in self.spherical_vectors.items():\n",
    "            s_vector[k] = np.dot(np.conj(v), vector)\n",
    "        return s_vector\n",
    "        \n",
    "    def matrix_element(self, stateA, stateB):\n",
    "        pass\n",
    "    \n",
    "class ElectricDipoleOperator(SphericalTensorOperator):\n",
    "    \n",
    "    operator = 'rank 1 Electric Dipole Operator'\n",
    "    \n",
    "    def __init__(self, electronic_matrix_elements=None):\n",
    "        self.electronic_matrix_elements = electronic_matrix_elements\n",
    "        super(ElectricDipoleOperator, self).__init__(1)\n",
    "        \n",
    "    def matrix_element(self, state0=None, state1=None, \n",
    "                       q=None, vector=None):\n",
    "        \"\"\"\n",
    "        you can insert a spherical projection index q = -1, 0, +1\n",
    "        or you can insert a vector orientation vector in cartesian space\n",
    "        \"\"\"\n",
    "        value = np.array([0, 0, 0], dtype='complex128')\n",
    "        # assume that state0 and state1 are expressed in Hunds Case (a)\n",
    "        # value = np.zeros(1, dtype='complex128')\n",
    "        for a0, s0 in zip(state0.amplitudes, state0.states):\n",
    "            for a1, s1 in zip(state1.amplitudes, state1.states):\n",
    "                for q in [-1, 0, +1]:\n",
    "                    Q = s0.w - s1.w\n",
    "                    e_trans1 = (s1.T, np.abs(Q), s0.T)\n",
    "                    e_trans2 = (s0.T, np.abs(Q), s1.T)\n",
    "                    c_1 = e_trans1 in self.electronic_matrix_elements.keys()\n",
    "                    c_2 = e_trans2 in self.electronic_matrix_elements.keys()\n",
    "\n",
    "                    if (c_1 or c_2):\n",
    "                        if c_1:\n",
    "                            M = self.electronic_matrix_elements[e_trans1]\n",
    "                        elif c_2:\n",
    "                            M = self.electronic_matrix_elements[e_trans2]\n",
    "\n",
    "                        value += ((np.conj(a0) * a1) *\n",
    "                                  np.complex128(\n",
    "                                  me.lab_to_mol(s0.j, s0.m, s0.w,\n",
    "                                                self.rank, q,  Q,\n",
    "                                                s1.j, s1.m, s1.w)) * M *\n",
    "                                  self.spherical_vectors[q])\n",
    "        value = np.conj(value)\n",
    "        if vector is not None:\n",
    "            vector = np.array(vector, dtype='complex128')\n",
    "            value = np.dot(value, vector)\n",
    "        return value\n",
    "\n",
    "    \n",
    "class HundsCaseABasisState(object):\n",
    "    \n",
    "    def __init__(self,T=None, j=None, m=None, w=None):\n",
    "        if j is None or m is None or w is None:\n",
    "            raise IOError('j, m, and w must be defined.')\n",
    "        self.j = j\n",
    "        self.m = m\n",
    "        self.w = w\n",
    "        self.T = T\n",
    "    \n",
    "    def __str__(self):\n",
    "        output =  ( 'j=' + str(self.j) + ', '\n",
    "                  + 'm=' + str(self.m) + ', '\n",
    "                  + 'w=' + str(self.w))\n",
    "        \n",
    "        if self.T is not None:\n",
    "            output = (str(self.T) + ', ' + output)\n",
    "        \n",
    "        output = '|' + output + '>'\n",
    "        return output\n",
    "        \n",
    "    \n",
    "    def __repr__(self):\n",
    "        return str(self)\n",
    "    \n",
    "    def __eq__(self, other):\n",
    "        if isinstance(other, self.__class__):\n",
    "            return self.__dict__ == other.__dict__\n",
    "        else:\n",
    "            return False\n",
    "\n",
    "    def __ne__(self, other):\n",
    "        return not self.__eq__(other)\n",
    "\n",
    "    \n",
    "def hunds_case_a_basis(T=None, j=None, m=None, w=None):\n",
    "    \n",
    "    states = []\n",
    "    \n",
    "    if j is None or w is None:\n",
    "        raise IOError('j and w must be defined')\n",
    "    if not(isinstance(j,(list, tuple))):\n",
    "        j = [j]\n",
    "    if not(isinstance(w,(list, tuple))):\n",
    "        w = [w]\n",
    "    if not(isinstance(T,(list, tuple))):\n",
    "        T = [T]\n",
    "    if m is not None and not(isinstance(m,(list, tuple))):\n",
    "        m = [m]\n",
    "        \n",
    "    for T_inst in T:\n",
    "        for j_inst in j:\n",
    "            for w_inst in w:\n",
    "                if m is None:\n",
    "                    m_temp = range(-j_inst, j_inst + 1)\n",
    "                else:\n",
    "                    m_temp = m\n",
    "                    \n",
    "                for m_inst in m_temp:\n",
    "                    \n",
    "                    basis_state = HundsCaseABasisState(T=T_inst, j=j_inst,\n",
    "                                                       m=m_inst, w=w_inst)\n",
    "                    state = State(1,basis_state)\n",
    "                    states.append(state)\n",
    "                    \n",
    "                    \n",
    "    if len(states) == 1:\n",
    "        states = states[0]\n",
    "    \n",
    "    return states\n",
    "\n",
    "\n",
    "class State(object):\n",
    "    \n",
    "    def __init__(self, amplitudes, states):\n",
    "        \n",
    "        if not(isinstance(amplitudes,(list,tuple)) \n",
    "               or amplitudes.__class__.__name__ == 'ndarray'):\n",
    "            amplitudes = [amplitudes]\n",
    "            \n",
    "        if not(isinstance(states, (list,tuple))):\n",
    "            states     = [states]\n",
    "            \n",
    "        if len(amplitudes) != len(states):\n",
    "            raise IOError(\"\"\"the state object must be provided equal\n",
    "                          length amplitude and states lists\"\"\")\n",
    "            \n",
    "        self.amplitudes = np.array(amplitudes)\n",
    "        self.states     = list(states)\n",
    "        \n",
    "    def __len__(self):\n",
    "        return len(self.states)\n",
    "        \n",
    "    def __str__(self):\n",
    "        output = []\n",
    "        for a, s in zip(self.amplitudes, self.states):\n",
    "            output.append(' + ')\n",
    "            if a != 1:\n",
    "                output.append(str(a))\n",
    "            output.append(str(s))\n",
    "            \n",
    "        output.pop(0)\n",
    "        output = ''.join(output)\n",
    "        return output\n",
    "    \n",
    "    def normalize(self):\n",
    "        self.amplitudes = self.amplitudes / self.norm()\n",
    "        \n",
    "    def norm(self):\n",
    "        return np.sqrt(np.sum(self.amplitudes * np.conj(self.amplitudes)))\n",
    "    \n",
    "    def t(self):\n",
    "        return State(np.conj(self.amplitudes),self.states)\n",
    "    \n",
    "    def __repr__(self):\n",
    "        return str(self)\n",
    "    \n",
    "    def __mul__(self, other):\n",
    "        if isinstance(other, self.__class__):\n",
    "            if other.states == self.states:\n",
    "                return sum(np.conj(other.amplitudes) * self.amplitudes)\n",
    "            \n",
    "            if len(self.states) >= len(other.states):\n",
    "                large = self.t()\n",
    "                small = other\n",
    "            else:\n",
    "                large = other\n",
    "                small = self.t()\n",
    "                \n",
    "            total = 0\n",
    "            for s, a in zip(small.states, list(small.amplitudes)):\n",
    "                if s in large.states:\n",
    "                    ind = large.states.index(s)\n",
    "                    total += a * large.amplitudes[ind]  \n",
    "            return total\n",
    "        \n",
    "        else:\n",
    "            return State(self.amplitudes * other, self.states)\n",
    "    \n",
    "    def __rmul__(self, other):\n",
    "        if isinstance(other, self.__class__):\n",
    "            return np.conj(self.__mul__(other))\n",
    "        else:\n",
    "            return self.__mul__(other)\n",
    "    \n",
    "    def __add__(self, other):\n",
    "        if not(isinstance(other, self.__class__)):\n",
    "            raise TypeError('only state objects can be added together')\n",
    "            \n",
    "        new_states = copy.deepcopy(self.states)\n",
    "        new_amplitudes = list(copy.deepcopy(self.amplitudes))\n",
    "        \n",
    "        for s, a in zip(other.states,list(other.amplitudes)):\n",
    "            if s in new_states:\n",
    "                ind = new_states.index(s)\n",
    "                new_amplitudes[ind] += a\n",
    "            else:\n",
    "                new_states.append(s)\n",
    "                new_amplitudes.append(a)\n",
    "                \n",
    "        return State(new_amplitudes, new_states)\n",
    "    \n",
    "    def __sub__(self, other):\n",
    "        return self.__add__((-1) * other)\n",
    "    \n",
    "    def __eq__(self, other):\n",
    "        if isinstance(other, self.__class__):\n",
    "            if len(self.states) != len(other.states):\n",
    "                return False\n",
    "            else:\n",
    "                for s, a in zip(self.states, list(self.amplitudes)):\n",
    "                    if s in other.states:\n",
    "                        ind = other.states.index(s)\n",
    "                        if other.amplitudes[ind] != a:\n",
    "                            return False\n",
    "                    else:\n",
    "                        return False\n",
    "                return True\n",
    "        else:\n",
    "            return False\n",
    "\n",
    "    def __ne__(self, other):\n",
    "        return not self.__eq__(other)"
   ]
  },
  {
   "cell_type": "code",
   "execution_count": 7,
   "metadata": {
    "collapsed": false
   },
   "outputs": [],
   "source": [
    "a = hunds_case_a_basis(T='H',j=1,m=1,w=1)\n",
    "b = hunds_case_a_basis(T='H',j=2,m=1,w=1)\n",
    "c = hunds_case_a_basis(T='H',j=2,m=1,w=1)"
   ]
  },
  {
   "cell_type": "code",
   "execution_count": 8,
   "metadata": {
    "collapsed": false
   },
   "outputs": [
    {
     "data": {
      "text/plain": [
       "|H, j=2, m=1, w=1>"
      ]
     },
     "execution_count": 8,
     "metadata": {},
     "output_type": "execute_result"
    }
   ],
   "source": [
    "c"
   ]
  },
  {
   "cell_type": "code",
   "execution_count": 9,
   "metadata": {
    "collapsed": false
   },
   "outputs": [
    {
     "data": {
      "text/plain": [
       "[|H, j=1, m=-1, w=-1>,\n",
       " |H, j=1, m=0, w=-1>,\n",
       " |H, j=1, m=1, w=-1>,\n",
       " |H, j=1, m=-1, w=1>,\n",
       " |H, j=1, m=0, w=1>,\n",
       " |H, j=1, m=1, w=1>,\n",
       " |H, j=2, m=-2, w=-1>,\n",
       " |H, j=2, m=-1, w=-1>,\n",
       " |H, j=2, m=0, w=-1>,\n",
       " |H, j=2, m=1, w=-1>,\n",
       " |H, j=2, m=2, w=-1>,\n",
       " |H, j=2, m=-2, w=1>,\n",
       " |H, j=2, m=-1, w=1>,\n",
       " |H, j=2, m=0, w=1>,\n",
       " |H, j=2, m=1, w=1>,\n",
       " |H, j=2, m=2, w=1>,\n",
       " |C, j=1, m=-1, w=-1>,\n",
       " |C, j=1, m=0, w=-1>,\n",
       " |C, j=1, m=1, w=-1>,\n",
       " |C, j=1, m=-1, w=1>,\n",
       " |C, j=1, m=0, w=1>,\n",
       " |C, j=1, m=1, w=1>,\n",
       " |C, j=2, m=-2, w=-1>,\n",
       " |C, j=2, m=-1, w=-1>,\n",
       " |C, j=2, m=0, w=-1>,\n",
       " |C, j=2, m=1, w=-1>,\n",
       " |C, j=2, m=2, w=-1>,\n",
       " |C, j=2, m=-2, w=1>,\n",
       " |C, j=2, m=-1, w=1>,\n",
       " |C, j=2, m=0, w=1>,\n",
       " |C, j=2, m=1, w=1>,\n",
       " |C, j=2, m=2, w=1>]"
      ]
     },
     "execution_count": 9,
     "metadata": {},
     "output_type": "execute_result"
    }
   ],
   "source": [
    "basis = hunds_case_a_basis(T=['H', 'C'], j=[1,2], w=[-1, 1])\n",
    "basis"
   ]
  },
  {
   "cell_type": "code",
   "execution_count": null,
   "metadata": {
    "collapsed": true
   },
   "outputs": [],
   "source": [
    "# standard values:\n",
    "ELECTRIC_DIPOLE_MOMENT = {('H', 'H') : 1,\n",
    "                          ('H', 'C') : 1,\n",
    "                          ('C', 'C') : 1}"
   ]
  },
  {
   "cell_type": "code",
   "execution_count": null,
   "metadata": {
    "collapsed": true
   },
   "outputs": [],
   "source": [
    "# the goal is now to create Hamiltonians with respect to this basis\n",
    "\n",
    "class HamiltonianInteraction(object):\n",
    "    \n",
    "    def __init__(self, basis):\n",
    "        self.basis = basis\n",
    "        self.size  = len(basis)\n",
    "        self.generate_hamiltonian()\n",
    "    \n",
    "    def generate_hamiltonian(self):\n",
    "        \"virtual function to be overwritten\"\n",
    "        pass\n",
    "    \n",
    "class StarkInteraction(HamiltonianInteraction):\n",
    "    \"\"\"\n",
    "    produce a function that takes an electric field\n",
    "    vector and produces a Stark Interaction Hamiltonian\n",
    "    with respect to a specified basis. Here we specify\n",
    "    electric dipole moments in 2piMHz/V/cm, and we\n",
    "    specify electric fields in V/cm\n",
    "    \"\"\"\n",
    "    \n",
    "    def __init__(self, basis, dipole_moments=None, \n",
    "                 include_electronic_diagonal=False):\n",
    "        self.dipole_moments = dipole_moments\n",
    "        self.include_electronic_diagonal = include_electronic_diagonal\n",
    "        super(StarkInteraction, self).__init__(basis)\n",
    "        \n",
    "    def generate_hamiltonian(self):\n",
    "        H = np.zeros((self.size, self.size), dtype='complex128')\n",
    "        for i in range(len(self.basis)):\n",
    "            for j in range(i, len(self.basis)):\n",
    "                si = self.basis[i]\n",
    "                sj = self.basis[j]\n",
    "                value = me.lab_to_mol(si.)"
   ]
  },
  {
   "cell_type": "code",
   "execution_count": 20,
   "metadata": {
    "collapsed": false
   },
   "outputs": [
    {
     "data": {
      "text/plain": [
       "|H, j=1, m=-1, w=-1>"
      ]
     },
     "execution_count": 20,
     "metadata": {},
     "output_type": "execute_result"
    }
   ],
   "source": [
    "si."
   ]
  },
  {
   "cell_type": "code",
   "execution_count": 19,
   "metadata": {
    "collapsed": false
   },
   "outputs": [],
   "source": [
    "si = basis[0].states[0]"
   ]
  },
  {
   "cell_type": "code",
   "execution_count": 17,
   "metadata": {
    "collapsed": true
   },
   "outputs": [],
   "source": [
    "si = basis[0]\n",
    "si = basis[0]"
   ]
  },
  {
   "cell_type": "code",
   "execution_count": 14,
   "metadata": {
    "collapsed": true
   },
   "outputs": [],
   "source": [
    "me.lab_to_mol?"
   ]
  },
  {
   "cell_type": "code",
   "execution_count": 13,
   "metadata": {
    "collapsed": false
   },
   "outputs": [
    {
     "name": "stdout",
     "output_type": "stream",
     "text": [
      "|H, j=1, m=1, w=1> + (1+1j)|H, j=2, m=1, w=1>\n",
      "|H, j=1, m=1, w=1> + 1j|H, j=2, m=1, w=1>\n",
      "(2-1j)\n",
      "(2+1j)\n"
     ]
    }
   ],
   "source": [
    "print A\n",
    "print B\n",
    "print A * B\n",
    "print B * A"
   ]
  },
  {
   "cell_type": "code",
   "execution_count": 10,
   "metadata": {
    "collapsed": false
   },
   "outputs": [
    {
     "name": "stdout",
     "output_type": "stream",
     "text": [
      "(2-1j)\n",
      "(2+1j)\n"
     ]
    }
   ],
   "source": [
    "states = [a, b, c]\n",
    "A = states[0] + (1 + 1j) * states[1]\n",
    "B = states[0] + 1j * states[1]\n",
    "\n",
    "#A.normalize()\n",
    "#B.normalize()\n",
    "\n",
    "print(A * B)\n",
    "print(B * A)"
   ]
  },
  {
   "cell_type": "code",
   "execution_count": null,
   "metadata": {
    "collapsed": true
   },
   "outputs": [],
   "source": [
    "me.lab_to_mol?"
   ]
  },
  {
   "cell_type": "code",
   "execution_count": 2,
   "metadata": {
    "collapsed": false
   },
   "outputs": [
    {
     "data": {
      "text/plain": [
       "0.353553390593274"
      ]
     },
     "execution_count": 2,
     "metadata": {},
     "output_type": "execute_result"
    }
   ],
   "source": [
    "me.lab_to_mol(1, 0, 1, \n",
    "              1,-1, 0,\n",
    "              1, 1, 1)/np.sqrt(2)"
   ]
  },
  {
   "cell_type": "code",
   "execution_count": null,
   "metadata": {
    "collapsed": true
   },
   "outputs": [],
   "source": [
    "(me.lab_to_mol(1, 0, 1, \n",
    "              1, 1, 0,\n",
    "              1, 1, 1)\n",
    "-\n",
    "me.lab_to_mol(1, 0, 1, \n",
    "              1, 1, 0,\n",
    "              1, 1, 1))"
   ]
  }
 ],
 "metadata": {
  "kernelspec": {
   "display_name": "Python 2",
   "language": "python",
   "name": "python2"
  },
  "language_info": {
   "codemirror_mode": {
    "name": "ipython",
    "version": 2
   },
   "file_extension": ".py",
   "mimetype": "text/x-python",
   "name": "python",
   "nbconvert_exporter": "python",
   "pygments_lexer": "ipython2",
   "version": "2.7.11"
  }
 },
 "nbformat": 4,
 "nbformat_minor": 0
}
